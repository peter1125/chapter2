{
 "cells": [
  {
   "cell_type": "markdown",
   "id": "af2ebcfc",
   "metadata": {},
   "source": [
    "## Load Libraries"
   ]
  },
  {
   "cell_type": "code",
   "execution_count": null,
   "id": "bbacb50b",
   "metadata": {},
   "outputs": [],
   "source": [
    "import pandas as pd\n",
    "import numpy as np\n",
    "from qualkit.clean import clean, remove_dont_knows, lemmatize\n",
    "from qualkit.anchored_topic_model import anchored_topic_model, topic_metrics"
   ]
  },
  {
   "cell_type": "markdown",
   "id": "50ae7f2d",
   "metadata": {},
   "source": [
    "## Load data"
   ]
  },
  {
   "cell_type": "code",
   "execution_count": null,
   "id": "1f11a2df",
   "metadata": {},
   "outputs": [],
   "source": [
    "data = pd.read_csv(\"DATA PATH\")"
   ]
  },
  {
   "cell_type": "markdown",
   "id": "73ed1368",
   "metadata": {},
   "source": [
    "## Clean and preprocess data"
   ]
  },
  {
   "cell_type": "code",
   "execution_count": null,
   "id": "0ab82a67",
   "metadata": {},
   "outputs": [],
   "source": [
    "data = clean(data, 'TEXT COLUMN')"
   ]
  },
  {
   "cell_type": "code",
   "execution_count": null,
   "id": "73173a97",
   "metadata": {},
   "outputs": [],
   "source": [
    "data = remove_dont_knows(data, 'CLEANED DATA COLUMN')"
   ]
  },
  {
   "cell_type": "code",
   "execution_count": null,
   "id": "70e04937",
   "metadata": {
    "scrolled": false
   },
   "outputs": [],
   "source": [
    "data = lemmatize(data, 'CLEANED DATA COLUMN')"
   ]
  },
  {
   "cell_type": "code",
   "execution_count": null,
   "id": "39b25f59",
   "metadata": {},
   "outputs": [],
   "source": [
    "data.head()"
   ]
  },
  {
   "cell_type": "markdown",
   "id": "c92f50a9",
   "metadata": {},
   "source": [
    "## Topics"
   ]
  },
  {
   "cell_type": "code",
   "execution_count": null,
   "id": "d38fcf0d",
   "metadata": {
    "scrolled": true
   },
   "outputs": [],
   "source": [
    "# examine topic metrics (correlation)\n",
    "topic_metrics(data,'CLEANED DATA COLUMN', number_of_topics=10)"
   ]
  },
  {
   "cell_type": "code",
   "execution_count": null,
   "id": "30bddbf6",
   "metadata": {},
   "outputs": [],
   "source": [
    "# first iteration of topics\n",
    "df1 = anchored_topic_model(data, 'CLEANED DATA COLUMN', number_of_topics=5, print_topic_details=True)"
   ]
  },
  {
   "cell_type": "code",
   "execution_count": null,
   "id": "290e5f87",
   "metadata": {},
   "outputs": [],
   "source": [
    "df1.head()"
   ]
  },
  {
   "cell_type": "code",
   "execution_count": null,
   "id": "d9b69a3b",
   "metadata": {},
   "outputs": [],
   "source": [
    "df1['Topic name'].value_counts()"
   ]
  },
  {
   "cell_type": "markdown",
   "id": "f82cb1b5",
   "metadata": {},
   "source": [
    "## Add Topic Lables and Anchor words"
   ]
  },
  {
   "cell_type": "code",
   "execution_count": null,
   "id": "82bd6319",
   "metadata": {},
   "outputs": [],
   "source": [
    "topic_names = ['eviction court', 'strive efforts', 'understanding the system', 'paying rent landlord', 'community']"
   ]
  },
  {
   "cell_type": "code",
   "execution_count": null,
   "id": "21477bf4",
   "metadata": {},
   "outputs": [],
   "source": [
    "anchors = [\n",
    "    ['evicition', 'court', 'legal aid'],\n",
    "    ['try', 'call'],\n",
    "    ['system', 'explain'],\n",
    "    ['rent', 'pay', 'landlord', 'money', 'pay rent'],\n",
    "    ['person', 'community', 'belong', 'person', 'people']\n",
    "]"
   ]
  },
  {
   "cell_type": "code",
   "execution_count": null,
   "id": "e5cd8961",
   "metadata": {},
   "outputs": [],
   "source": [
    "# second iteration of topics\n",
    "df2 = anchored_topic_model(data, 'CLEANED DATA COLUMN', topic_names=topic_names, anchors=anchors, print_topic_details=True,  number_of_topics= 5)"
   ]
  },
  {
   "cell_type": "code",
   "execution_count": null,
   "id": "846d73d2",
   "metadata": {},
   "outputs": [],
   "source": [
    "df2.head()"
   ]
  },
  {
   "cell_type": "code",
   "execution_count": null,
   "id": "0ea1585c",
   "metadata": {},
   "outputs": [],
   "source": [
    "df2['Topic name'].value_counts()"
   ]
  }
 ],
 "metadata": {
  "kernelspec": {
   "display_name": "Python 3 (ipykernel)",
   "language": "python",
   "name": "python3"
  },
  "language_info": {
   "codemirror_mode": {
    "name": "ipython",
    "version": 3
   },
   "file_extension": ".py",
   "mimetype": "text/x-python",
   "name": "python",
   "nbconvert_exporter": "python",
   "pygments_lexer": "ipython3",
   "version": "3.10.8"
  }
 },
 "nbformat": 4,
 "nbformat_minor": 5
}
