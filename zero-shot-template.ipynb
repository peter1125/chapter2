{
 "cells": [
  {
   "cell_type": "markdown",
   "id": "f627e6f4",
   "metadata": {},
   "source": [
    "## Load Libraries"
   ]
  },
  {
   "cell_type": "code",
   "execution_count": null,
   "id": "3e18655e",
   "metadata": {},
   "outputs": [],
   "source": [
    "import pandas as pd\n",
    "import numpy as np\n",
    "from transformers import pipeline\n",
    "import tqdm as notebook_tqdm\n",
    "from tqdm import tqdm"
   ]
  },
  {
   "cell_type": "markdown",
   "id": "8e6149f2",
   "metadata": {},
   "source": [
    "## Load Data"
   ]
  },
  {
   "cell_type": "code",
   "execution_count": null,
   "id": "a5f14860",
   "metadata": {},
   "outputs": [],
   "source": [
    "data = pd.read_csv(\"DATA PATH\")"
   ]
  },
  {
   "cell_type": "markdown",
   "id": "c54e71d7",
   "metadata": {},
   "source": [
    "## Load Classifier"
   ]
  },
  {
   "cell_type": "code",
   "execution_count": null,
   "id": "bc6c18b2",
   "metadata": {},
   "outputs": [],
   "source": [
    "classifier = pipeline(\"zero-shot-classification\",\n",
    "                      model=\"facebook/bart-large-mnli\")\n",
    "# see link for more options - https://huggingface.co/models?pipeline_tag=zero-shot-classification&sort=downloads"
   ]
  },
  {
   "cell_type": "code",
   "execution_count": null,
   "id": "5c7ca3e2",
   "metadata": {},
   "outputs": [],
   "source": [
    "data.head()"
   ]
  },
  {
   "cell_type": "markdown",
   "id": "647577e3",
   "metadata": {},
   "source": [
    "## Add expected lables"
   ]
  },
  {
   "cell_type": "code",
   "execution_count": null,
   "id": "988fcdaf",
   "metadata": {},
   "outputs": [],
   "source": [
    "cadidate_labels = [\"EXPECTED LABLES\"]"
   ]
  },
  {
   "cell_type": "markdown",
   "id": "e03da779",
   "metadata": {},
   "source": [
    "## Run Model"
   ]
  },
  {
   "cell_type": "code",
   "execution_count": null,
   "id": "829ca3dc",
   "metadata": {},
   "outputs": [],
   "source": [
    "startTime = time.time()\n",
    "\n",
    "data['results'] = data['text'].apply(lambda x: classifier(x, cadidate_labels))\n",
    "\n",
    "executionTime = (time.time() - startTime)\n",
    "print('Execution time in seconds: ' + str(executionTime))"
   ]
  },
  {
   "cell_type": "code",
   "execution_count": null,
   "id": "8a892873",
   "metadata": {},
   "outputs": [],
   "source": [
    "data.head()"
   ]
  },
  {
   "cell_type": "code",
   "execution_count": null,
   "id": "ed49e691",
   "metadata": {},
   "outputs": [],
   "source": [
    "#export results\n",
    "data.to_csv(\"zero_shot_results.csv\", index=False)"
   ]
  },
  {
   "cell_type": "code",
   "execution_count": null,
   "id": "cae68a4d",
   "metadata": {},
   "outputs": [],
   "source": [
    "# add the lable with the highest probability and its score to the table\n",
    "data['label_1'] = data['results'].apply(lambda x: x['labels'][0])\n",
    "data['score_1'] = data['results'].apply(lambda x: x['scores'][0])"
   ]
  },
  {
   "cell_type": "code",
   "execution_count": null,
   "id": "1392a7ea",
   "metadata": {},
   "outputs": [],
   "source": [
    "data.head()"
   ]
  },
  {
   "cell_type": "markdown",
   "id": "0f1fae77",
   "metadata": {},
   "source": [
    "## Visualize"
   ]
  },
  {
   "cell_type": "code",
   "execution_count": null,
   "id": "469e64cd",
   "metadata": {},
   "outputs": [],
   "source": [
    "import seaborn as sns"
   ]
  },
  {
   "cell_type": "code",
   "execution_count": null,
   "id": "f752984b",
   "metadata": {},
   "outputs": [],
   "source": [
    "xticklabels = list(data['label_1'].unique())"
   ]
  },
  {
   "cell_type": "code",
   "execution_count": null,
   "id": "b93f73ea",
   "metadata": {},
   "outputs": [],
   "source": [
    "data['label_1'].value_counts().plot.barh().invert_yaxis()"
   ]
  }
 ],
 "metadata": {
  "kernelspec": {
   "display_name": "Python 3 (ipykernel)",
   "language": "python",
   "name": "python3"
  },
  "language_info": {
   "codemirror_mode": {
    "name": "ipython",
    "version": 3
   },
   "file_extension": ".py",
   "mimetype": "text/x-python",
   "name": "python",
   "nbconvert_exporter": "python",
   "pygments_lexer": "ipython3",
   "version": "3.10.8"
  }
 },
 "nbformat": 4,
 "nbformat_minor": 5
}
